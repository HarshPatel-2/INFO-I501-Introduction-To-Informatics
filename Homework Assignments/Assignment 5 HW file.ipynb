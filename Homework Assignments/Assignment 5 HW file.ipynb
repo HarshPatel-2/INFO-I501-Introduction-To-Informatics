{
 "cells": [
  {
   "cell_type": "code",
   "execution_count": 130,
   "id": "1decd2f2-4137-47fa-8c8a-4556d5b005ee",
   "metadata": {},
   "outputs": [
    {
     "name": "stdout",
     "output_type": "stream",
     "text": [
      "4.181818181818182\n"
     ]
    }
   ],
   "source": [
    "list = [3,4,2,5,4,5,4,7,6,4,2]\n",
    "mean = sum(list) / len(list) \n",
    "print(mean) "
   ]
  },
  {
   "cell_type": "code",
   "execution_count": 131,
   "id": "44cde4f5-b495-4352-b975-ed3400757206",
   "metadata": {},
   "outputs": [
    {
     "name": "stdout",
     "output_type": "stream",
     "text": [
      "8.0\n"
     ]
    }
   ],
   "source": [
    "import math\n",
    "square_root = math.sqrt(64)\n",
    "print(square_root)"
   ]
  },
  {
   "cell_type": "code",
   "execution_count": 132,
   "id": "753cc04d-f300-4255-b187-15d744a5d033",
   "metadata": {},
   "outputs": [
    {
     "name": "stdout",
     "output_type": "stream",
     "text": [
      "3.6888794541139363\n"
     ]
    }
   ],
   "source": [
    "import math\n",
    "log_value = math.log(40)\n",
    "print(log_value) "
   ]
  },
  {
   "cell_type": "code",
   "execution_count": 133,
   "id": "2fd7208f-cccc-46c2-a5bb-6b26ed31b8eb",
   "metadata": {},
   "outputs": [
    {
     "name": "stdout",
     "output_type": "stream",
     "text": [
      "1.7320508075688767\n"
     ]
    }
   ],
   "source": [
    "import math \n",
    "angle_value = math.pi /3 \n",
    "tan_value = math.tan(angle_value)\n",
    "print(tan_value)"
   ]
  },
  {
   "cell_type": "code",
   "execution_count": 134,
   "id": "5112e274-1990-4637-bb6f-fff60bd81f12",
   "metadata": {},
   "outputs": [
    {
     "name": "stdout",
     "output_type": "stream",
     "text": [
      "Number of occurrences of 'but': 2\n",
      "Contents of the updated file:\n",
      "There are plenty of places in the world, still she wants to go to Maldives for her birthday. Initially, she was inclined towards London, still she changed her mind because it was expensive.\n"
     ]
    }
   ],
   "source": [
    "with open('original.txt', 'r') as file:\n",
    "    text = file.read()\n",
    "\n",
    "occurrences_of_but = text.count('but')\n",
    "modified_text = text.replace('but', 'still')\n",
    "with open('correction.txt', 'w') as file:\n",
    "    file.write(modified_text)\n",
    "\n",
    "print(f\"Number of occurrences of 'but': {occurrences_of_but}\")\n",
    "with open('correction.txt', 'r') as file:\n",
    "    updated_text = file.read()\n",
    "    print(\"Contents of the updated file:\")\n",
    "    print(updated_text)"
   ]
  },
  {
   "cell_type": "code",
   "execution_count": 135,
   "id": "b7125b50-e0ec-455a-85b9-af3fb62ff383",
   "metadata": {},
   "outputs": [
    {
     "name": "stdout",
     "output_type": "stream",
     "text": [
      "[60, 63, 66, 69, 96, 126, 156, 162, 165, 168, 186, 216, 246, 261, 264, 267, 276, 306, 336, 360, 363, 366, 369, 396, 426, 456, 462, 465, 468, 486]\n"
     ]
    }
   ],
   "source": [
    "list = [x for x in range (50, 501)\n",
    "        if x % 3 ==0 \n",
    "        and '6' in str(x)]\n",
    "print(list)"
   ]
  },
  {
   "cell_type": "code",
   "execution_count": 136,
   "id": "8e8bb2e9-6d5f-46d6-90e3-074f892a2e27",
   "metadata": {},
   "outputs": [],
   "source": [
    "planets_dict = {'Mercury': '01', 'Venus': '02', 'Earth': '03', 'Mars': '04', 'Jupiter': '05'}"
   ]
  },
  {
   "cell_type": "code",
   "execution_count": 137,
   "id": "b72bc919-ee35-411d-8678-23c1a9eaf4a4",
   "metadata": {},
   "outputs": [
    {
     "name": "stdout",
     "output_type": "stream",
     "text": [
      "A. Keys and Values:\n",
      "Mercury: 01\n",
      "Venus: 02\n",
      "Earth: 03\n",
      "Mars: 04\n",
      "Jupiter: 05\n"
     ]
    }
   ],
   "source": [
    "print(\"A. Keys and Values:\")\n",
    "for key, value in planets_dict.items():\n",
    "    print(f'{key}: {value}')"
   ]
  },
  {
   "cell_type": "code",
   "execution_count": 138,
   "id": "f0ea71ea-abe8-46e0-a11d-bd025d851b10",
   "metadata": {},
   "outputs": [],
   "source": [
    "planets_dict['Saturn'] = '06'"
   ]
  },
  {
   "cell_type": "code",
   "execution_count": 139,
   "id": "3d2c31e9-899f-4623-98b9-a8c3f69c72d7",
   "metadata": {},
   "outputs": [],
   "source": [
    "planets_dict['Earth'] = '3'"
   ]
  },
  {
   "cell_type": "code",
   "execution_count": 140,
   "id": "eaa999c3-9cf1-4c74-899f-8baedf3190ba",
   "metadata": {},
   "outputs": [],
   "source": [
    "jupiter_value = planets_dict['Jupiter']"
   ]
  },
  {
   "cell_type": "code",
   "execution_count": 141,
   "id": "937e6f96-afda-4bf9-a2a0-8b71b86e142f",
   "metadata": {},
   "outputs": [
    {
     "name": "stdout",
     "output_type": "stream",
     "text": [
      "\n",
      "Updated list:\n",
      "Mercury: 01\n",
      "Venus: 02\n",
      "Earth: 3\n",
      "Mars: 04\n",
      "Jupiter: 05\n",
      "Saturn: 06\n"
     ]
    }
   ],
   "source": [
    "print(\"\\nUpdated list:\")\n",
    "for key, value in planets_dict.items():\n",
    "    print(f'{key}: {value}')"
   ]
  },
  {
   "cell_type": "code",
   "execution_count": 142,
   "id": "ac52af91-ce85-4bf0-982c-93373e0e6066",
   "metadata": {},
   "outputs": [
    {
     "name": "stdout",
     "output_type": "stream",
     "text": [
      "\n",
      "D. Value for 'Jupiter': 05\n"
     ]
    }
   ],
   "source": [
    "print(f\"\\nD. Value for 'Jupiter': {jupiter_value}\")"
   ]
  },
  {
   "cell_type": "code",
   "execution_count": 143,
   "id": "b5d48d75-1ccd-4f32-9b86-40ef36859b46",
   "metadata": {},
   "outputs": [
    {
     "name": "stdout",
     "output_type": "stream",
     "text": [
      "The list of unique values: [4, 7, 2, 6, 5, 3, 9]\n",
      "The list of duplicate values: [5, 2, 3]\n"
     ]
    }
   ],
   "source": [
    "def find_unique_and_duplicates(list):\n",
    "    unique_values = []\n",
    "    duplicate_values = []\n",
    "\n",
    "    for item in list:\n",
    "        if list.count(item) > 1 and item not in duplicate_values:\n",
    "            duplicate_values.append(item)\n",
    "        elif item not in unique_values:\n",
    "            unique_values.append(item)\n",
    "\n",
    "    return unique_values, duplicate_values\n",
    "\n",
    "list = [5, 2, 3, 4, 7, 2, 6, 5, 3, 2, 9]\n",
    "unique, duplicates = find_unique_and_duplicates(list)\n",
    "\n",
    "print(\"The list of unique values:\", unique)\n",
    "print(\"The list of duplicate values:\", duplicates)"
   ]
  },
  {
   "cell_type": "code",
   "execution_count": 144,
   "id": "25150cd0-9818-4a8e-9c49-3b9903eef2dc",
   "metadata": {},
   "outputs": [
    {
     "name": "stdout",
     "output_type": "stream",
     "text": [
      "The first three elements of the tuple list:\n",
      "My\n",
      "1\n",
      "visit\n"
     ]
    }
   ],
   "source": [
    "tuple_list = (\"My\", 1, \"visit\", \"to\", \"Chicago\")\n",
    "\n",
    "print(\"The first three elements of the tuple list:\")\n",
    "for a in range (3):\n",
    "    print(tuple_list[a])"
   ]
  },
  {
   "cell_type": "code",
   "execution_count": 145,
   "id": "8d002525-b3f2-46e2-9912-327436df0ec2",
   "metadata": {},
   "outputs": [
    {
     "name": "stdout",
     "output_type": "stream",
     "text": [
      "Approximate cube root of 410: 7.428927421569824\n"
     ]
    }
   ],
   "source": [
    "def approx_cube_root(number, epsilon=0.01):\n",
    "    low = 0\n",
    "    high = number\n",
    "    guess = (low + high) / 2.0\n",
    "\n",
    "    while abs(guess**3 - number) >= epsilon:\n",
    "        if guess**3 < number:\n",
    "            low = guess\n",
    "        else:\n",
    "            high = guess\n",
    "        guess = (low + high) / 2.0\n",
    "        \n",
    "    return guess\n",
    "\n",
    "number = 410\n",
    "\n",
    "cube_root = approx_cube_root(number)\n",
    "print(f\"Approximate cube root of {number}: {cube_root}\")"
   ]
  },
  {
   "cell_type": "code",
   "execution_count": 146,
   "id": "42d18af0-91ee-41b6-b0e4-b8a27a6cc7ac",
   "metadata": {},
   "outputs": [
    {
     "name": "stdout",
     "output_type": "stream",
     "text": [
      "['wood', 'would', 'woodchuck']\n"
     ]
    }
   ],
   "source": [
    "string = \"How much wood would a woodchuck chuck\"\n",
    "words = string.split()\n",
    "w_words = [word for word in words if word.startswith('w')]\n",
    "print(w_words)"
   ]
  },
  {
   "cell_type": "code",
   "execution_count": 147,
   "id": "80f81017-b744-4351-9027-7ffee7989bd4",
   "metadata": {},
   "outputs": [
    {
     "name": "stdout",
     "output_type": "stream",
     "text": [
      "[98.9, 187, 3, 44, 23, 65.3, 50, 325, 33.4, 52.5, 98, 95]\n"
     ]
    }
   ],
   "source": [
    "list = [187, 3, 44, 23, 65.3, 50, 325, 33.4, 52.5, 98, 95] \n",
    "\n",
    "insert_number = 98.9 \n",
    "\n",
    "insert_index =0\n",
    "for a, num in enumerate(list):\n",
    "    if insert_number < num:\n",
    "        insert_index = a\n",
    "        break \n",
    "    insert_index = a + 1\n",
    "\n",
    "list.insert(insert_index, insert_number)\n",
    "print(list)"
   ]
  },
  {
   "cell_type": "code",
   "execution_count": 148,
   "id": "de7f201c-ce92-4ab3-af0b-59cd29b948ad",
   "metadata": {},
   "outputs": [
    {
     "name": "stdout",
     "output_type": "stream",
     "text": [
      "Object Equality: False\n",
      "Value Equality: True\n"
     ]
    }
   ],
   "source": [
    "import copy\n",
    "\n",
    "mylist1 = ['x', 'y', 'z']\n",
    "mylist2 = ['x', 'y', 'z']\n",
    "\n",
    "object_equality = mylist1 is mylist2\n",
    "value_equality = mylist1 == mylist2\n",
    "\n",
    "print(\"Object Equality:\", object_equality)\n",
    "print(\"Value Equality:\", value_equality)"
   ]
  },
  {
   "cell_type": "code",
   "execution_count": 149,
   "id": "97e1aa52-481f-4b48-aa7d-cc3d89fa2200",
   "metadata": {},
   "outputs": [
    {
     "name": "stdout",
     "output_type": "stream",
     "text": [
      "Object Equality (mylist1 and Shallow Copy): False\n",
      "Object Equality (mylist1 and Deep Copy): False\n"
     ]
    }
   ],
   "source": [
    "shallow_copy = copy.copy(mylist1)\n",
    "deep_copy = copy.deepcopy(mylist1)\n",
    "\n",
    "object_equality_shallow = mylist1 is shallow_copy\n",
    "object_equality_deep = mylist1 is deep_copy\n",
    "\n",
    "print(\"Object Equality (mylist1 and Shallow Copy):\", object_equality_shallow)\n",
    "print(\"Object Equality (mylist1 and Deep Copy):\", object_equality_deep)"
   ]
  }
 ],
 "metadata": {
  "kernelspec": {
   "display_name": "Python 3 (ipykernel)",
   "language": "python",
   "name": "python3"
  },
  "language_info": {
   "codemirror_mode": {
    "name": "ipython",
    "version": 3
   },
   "file_extension": ".py",
   "mimetype": "text/x-python",
   "name": "python",
   "nbconvert_exporter": "python",
   "pygments_lexer": "ipython3",
   "version": "3.10.12"
  }
 },
 "nbformat": 4,
 "nbformat_minor": 5
}
