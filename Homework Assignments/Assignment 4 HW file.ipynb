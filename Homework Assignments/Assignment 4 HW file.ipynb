{
 "cells": [
  {
   "cell_type": "code",
   "execution_count": 1,
   "id": "9b3b011d-9e60-4a6a-87c0-18c8ede7d5bc",
   "metadata": {},
   "outputs": [
    {
     "name": "stdin",
     "output_type": "stream",
     "text": [
      "Enter length of the rectangle:  6\n",
      "Enter width of the rectangle:  6\n"
     ]
    },
    {
     "name": "stdout",
     "output_type": "stream",
     "text": [
      "The perimeter of the rectangle: 24.0\n",
      "The area of the rectangle: 36.0\n"
     ]
    }
   ],
   "source": [
    "l = float(input(\"Enter length of the rectangle: \"))\n",
    "w = float(input(\"Enter width of the rectangle: \"))\n",
    "perimeter = 2 * (l + w)\n",
    "area = l * w \n",
    "print(f\"The perimeter of the rectangle: {perimeter}\")\n",
    "print(f\"The area of the rectangle: {area}\") "
   ]
  },
  {
   "cell_type": "code",
   "execution_count": 2,
   "id": "69be2a04-b37d-4294-9fa5-6f971b5766a4",
   "metadata": {},
   "outputs": [
    {
     "name": "stdout",
     "output_type": "stream",
     "text": [
      "The highest two-digit number is: 99\n",
      "The lowest three-digit number is: 105\n"
     ]
    }
   ],
   "source": [
    "numbers = [105, 25, 652, 40, 843, 118, 99, 679]\n",
    "highest_two_digit_number =max(n for n in numbers if 10 <= n <= 99)\n",
    "lowest_three_digit_number =min(n for n in numbers if 100 <= n <= 900) \n",
    "print(\"The highest two-digit number is:\", highest_two_digit_number)\n",
    "print (\"The lowest three-digit number is:\", lowest_three_digit_number) "
   ]
  },
  {
   "cell_type": "code",
   "execution_count": 3,
   "id": "bce70e05-73a0-40f0-a068-cecca16b8d05",
   "metadata": {},
   "outputs": [
    {
     "name": "stdout",
     "output_type": "stream",
     "text": [
      "nohtyP fo neZ\n"
     ]
    }
   ],
   "source": [
    "String1 = \"Zen of Python\" \n",
    "reverse_string = String1[::-1]\n",
    "print(reverse_string)"
   ]
  },
  {
   "cell_type": "code",
   "execution_count": 4,
   "id": "8c5d5443-24f9-4614-8a30-ff5609bb0e60",
   "metadata": {},
   "outputs": [
    {
     "name": "stdout",
     "output_type": "stream",
     "text": [
      "50\n",
      "55\n",
      "56\n",
      "60\n",
      "63\n",
      "65\n",
      "70\n",
      "75\n",
      "77\n",
      "80\n",
      "84\n",
      "85\n",
      "90\n",
      "91\n",
      "95\n",
      "98\n",
      "100\n"
     ]
    }
   ],
   "source": [
    "for x in range(50, 101):\n",
    "    if x%5 ==0 or x%7 ==0:\n",
    "        print(x)"
   ]
  },
  {
   "cell_type": "code",
   "execution_count": 5,
   "id": "dd4abae5-5322-49bc-bc8b-e496d3e74825",
   "metadata": {},
   "outputs": [
    {
     "name": "stdin",
     "output_type": "stream",
     "text": [
      "Enter a number: 4\n"
     ]
    },
    {
     "name": "stdout",
     "output_type": "stream",
     "text": [
      "4 times 1 = 4\n",
      "4 times 2 = 8\n",
      "4 times 3 = 12\n",
      "4 times 4 = 16\n",
      "4 times 5 = 20\n",
      "4 times 6 = 24\n",
      "4 times 7 = 28\n",
      "4 times 8 = 32\n",
      "4 times 9 = 36\n",
      "4 times 10 = 40\n"
     ]
    }
   ],
   "source": [
    "number = int(input(\"Enter a number:\")) \n",
    "for x in range(1,11):\n",
    "    multiple = number * x\n",
    "    print(f\"{number} times {x} = {multiple}\") "
   ]
  },
  {
   "cell_type": "code",
   "execution_count": 6,
   "id": "a89bf5de-09c3-4467-a61b-2c03353b829f",
   "metadata": {},
   "outputs": [
    {
     "name": "stdout",
     "output_type": "stream",
     "text": [
      "Vowels in the string: aee\n"
     ]
    }
   ],
   "source": [
    "String1 = 'Manchester' \n",
    "vowels= \"\"\n",
    "for letters in String1:\n",
    "    if letters in \"aeiou\":\n",
    "        vowels += letters \n",
    "print(\"Vowels in the string:\", vowels)"
   ]
  },
  {
   "cell_type": "code",
   "execution_count": 7,
   "id": "8b741166-da84-4acb-8d59-5d5431683acc",
   "metadata": {},
   "outputs": [
    {
     "name": "stdout",
     "output_type": "stream",
     "text": [
      "Closest number that is divisible by 6 to number 78 is: 78\n"
     ]
    }
   ],
   "source": [
    "x = 78\n",
    "closest_divisible_number = None \n",
    "for x in range(x, 0, -1):\n",
    "    if x%6 ==0:\n",
    "        closest_divisible_number = x\n",
    "        break \n",
    "print(\"Closest number that is divisible by 6 to number 78 is:\", closest_divisible_number)"
   ]
  },
  {
   "cell_type": "code",
   "execution_count": 8,
   "id": "72d32ca7-a2cd-45ae-9509-bd9e3ce6fdd6",
   "metadata": {},
   "outputs": [
    {
     "name": "stdout",
     "output_type": "stream",
     "text": [
      "list is sorted in descending order: [93, 33, 8, 6, 6, 4, 4, 3, 2, 1]\n"
     ]
    }
   ],
   "source": [
    "def descending_order(numbers):\n",
    "    x= len(numbers)\n",
    "    for a in range(x):\n",
    "        for c in range(0, x-a - 1):\n",
    "            if numbers[c] < numbers[c+1]:\n",
    "                numbers[c], numbers[c+1] = numbers[c+1], numbers[c]\n",
    "list1 = [3, 6, 1, 33, 8, 93, 2, 4, 6, 4]\n",
    "descending_order(list1)\n",
    "print(\"list is sorted in descending order:\", list1)"
   ]
  },
  {
   "cell_type": "code",
   "execution_count": 9,
   "id": "5b5314c1-67cc-494a-9e2a-51c106338232",
   "metadata": {},
   "outputs": [
    {
     "name": "stdout",
     "output_type": "stream",
     "text": [
      "Second item in the list: Data Science\n",
      "Index of Pharmacy in the list: 3\n"
     ]
    }
   ],
   "source": [
    "mylist = [\"Informatics\", \"Data Science\", \"Nursing\", \"Pharmacy\", \"Dentistry\", \"Marketing\"]\n",
    "print(\"Second item in the list:\", mylist[1])\n",
    "Pharmacy_index = mylist.index(\"Pharmacy\")\n",
    "print(\"Index of Pharmacy in the list:\", Pharmacy_index)"
   ]
  },
  {
   "cell_type": "code",
   "execution_count": null,
   "id": "e4f1008d-1613-4d43-92ae-32ae72933472",
   "metadata": {},
   "outputs": [],
   "source": []
  }
 ],
 "metadata": {
  "kernelspec": {
   "display_name": "Python 3 (ipykernel)",
   "language": "python",
   "name": "python3"
  },
  "language_info": {
   "codemirror_mode": {
    "name": "ipython",
    "version": 3
   },
   "file_extension": ".py",
   "mimetype": "text/x-python",
   "name": "python",
   "nbconvert_exporter": "python",
   "pygments_lexer": "ipython3",
   "version": "3.10.12"
  }
 },
 "nbformat": 4,
 "nbformat_minor": 5
}
