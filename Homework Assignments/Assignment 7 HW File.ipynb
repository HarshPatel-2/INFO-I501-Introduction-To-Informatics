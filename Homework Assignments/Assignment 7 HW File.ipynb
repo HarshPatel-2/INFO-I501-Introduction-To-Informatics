{
 "cells": [
  {
   "cell_type": "code",
   "execution_count": 1,
   "id": "2d33e780-5510-46f4-9dbb-55954215538d",
   "metadata": {},
   "outputs": [
    {
     "name": "stdin",
     "output_type": "stream",
     "text": [
      "Enter a string:  Bob\n"
     ]
    },
    {
     "name": "stdout",
     "output_type": "stream",
     "text": [
      "The string is a palindrome.\n"
     ]
    }
   ],
   "source": [
    "def is_palindrome_linear(a):\n",
    "    a = a.lower().replace(\" \", \"\")\n",
    "    b = len(a)\n",
    "    for i in range (b // 2):\n",
    "        if a[i] != a[b - i - 1]:\n",
    "            return False \n",
    "    return True \n",
    "user_input = input(\"Enter a string: \") \n",
    "if is_palindrome_linear(user_input):\n",
    "    print(\"The string is a palindrome.\")\n",
    "else: \n",
    "    print(\"The string is not a palindrome.\")"
   ]
  },
  {
   "cell_type": "code",
   "execution_count": 2,
   "id": "eaee99e4-30cd-4078-ba30-9a07daf424ef",
   "metadata": {},
   "outputs": [
    {
     "name": "stdin",
     "output_type": "stream",
     "text": [
      "Enter a 5-letter string: Kayak\n"
     ]
    },
    {
     "name": "stdout",
     "output_type": "stream",
     "text": [
      "The string is a palindrome.\n"
     ]
    }
   ],
   "source": [
    "# I believe that theoretically it is not possible to achieve a constant time complexity for the palindrome code. \n",
    "# Since we are checking the letters in the word to determine if it is a palindrome, or it isn’t one. \n",
    "# In the textbook, we learn that a constant time complexity would involve a solution that the time it takes to process the input wouldn’t depend on the size of the input itself. \n",
    "# Therefore, I believe that the linear example I wrote above would be the best way to have a palindrome code written. \n",
    "# Because we are trying to examine each of the letters one by one it makes the given string by the user a linear complexity. \n",
    "# Although I can give this a try.\n",
    "def is_palindrome_constant(x):\n",
    "    x = x.lower().replace(\" \", \"\")\n",
    "    return x == x[::-1]\n",
    "    \n",
    "# The lower case section, removing the spaces, and checking if the word is a palindrome is still the same case for the 5-letter input made by the user. \n",
    "# I wrote a code that limits the palindrome to a 5-letter string. \n",
    "# Therefore, we can assume that the time complexity for this one would be constant complexity O(1) due to the fixed size I have given. \n",
    "# By restricting the input to exactly 5-letters.\n",
    "# I have fixed it so that it has a constant number of operations that will be run and wouldn’t depend specifically on the size of the input itself. \n",
    "user_input = input(\"Enter a 5-letter string:\")\n",
    "if len(user_input) != 5:\n",
    "    print (\"Please enter a 5-letter string:\")\n",
    "else: \n",
    "    if is_palindrome_constant(user_input):\n",
    "        print(\"The string is a palindrome.\")\n",
    "    else: \n",
    "        print(\"The string is not a palindrome.\")\n",
    "        \n",
    "# We are trying to keep the input length at a fixed rate. \n",
    "# Although for the code I’ve written this is a unique constant complexity case because it only takes 5-letter strings. "
   ]
  },
  {
   "cell_type": "code",
   "execution_count": null,
   "id": "468a6082-0b0a-4fb2-8ee4-13175643c8e9",
   "metadata": {},
   "outputs": [],
   "source": [
    "# The first section of this code is trying to calculate the factorial of an integer ‘n’ by utilizing a recursion. \n",
    "# In the textbook we have learned the time complexity class of this function. O(n) usually means linear running time in python. \n",
    "# Because of this time complexity ‘n’ recursive calls in this function. \n",
    "def factorial(n):\n",
    "    if n == 0:\n",
    "        return 1\n",
    "    else:\n",
    "        return n * factorial(n - 1)\n",
    "\n",
    "# The second portion of the Fibonacci calculates the number by using a recursion. The time complexity for this function would be exponential. \n",
    "# Because of the exponential time O(2^n) complexity, it will make two recursive calls for each input. This will lead to a branching factor of 2. \n",
    "def fibonacci(n):\n",
    "    if n <= 1:\n",
    "        return n\n",
    "    else:\n",
    "        return fibonacci(n - 1) + fibonacci(n - 2)\n",
    "\n",
    "# The third section of this code uses the function to perform a binary search. \n",
    "# Specifically on the sorted array ‘arr’ in order to find the ‘target’ element. \n",
    "# Therefore, the time complexity in this section would be O(log n). Where ‘n’ would represent the number of elements in the array ‘arr’.\n",
    "# The reason binary search has a logarithmic time complexity is due to the repeated dividing of the search space in half. \n",
    "def search(arr, target, left, right):\n",
    "    if left <= right:\n",
    "        mid = left + (right - left) // 2\n",
    "        if arr[mid] == target:\n",
    "            return mid\n",
    "        elif arr[mid] < target:\n",
    "            return search(arr, target, mid + 1, right)\n",
    "        else:\n",
    "            return search(arr, target, left, mid - 1)\n",
    "    return -1\n",
    "    \n",
    "# Finally, we arrive at the ending result of a time complexity of the entire code being the worst-case time complexity due to the fact that these three functions will not be executed at the same time. \n",
    "# It’s going to pick the time complexity O(2^n) because the Fibonacci function has the highest time complexity versus the other two functions. "
   ]
  },
  {
   "cell_type": "code",
   "execution_count": null,
   "id": "eb5358e2-00e4-4720-99e6-c50a67b900f8",
   "metadata": {},
   "outputs": [],
   "source": [
    "# The first section of this code is performing a linear search on the array ‘arr’ in order to find the ‘target’ element. \n",
    "# Which means that the time complexity of this section would be O(n). \n",
    "# Where ‘n’ will be the length of the array ‘arr’ it has a linear complexity because it will iterate once through the array. \n",
    "def search(arr, target):\n",
    "    for i in range(len(arr)):\n",
    "        if arr[i] == target:\n",
    "            return i\n",
    "    return -1\n",
    "\n",
    "# The second section of this code tries to calculate the sum of integers from 1 to ‘n’ using a loop function. \n",
    "# Therefore, the time complexity of this section would be O(n). Where the ‘n’ is counted as the input.\n",
    "# It has linear time complexity due to running a loop ‘n’ times, and each iteration will involve a constant amount of work in this section of the code. \n",
    "def son(n):\n",
    "    total = 0\n",
    "    for i in range(1, n + 1):\n",
    "        total += i\n",
    "    return total\n",
    "    \n",
    "# The third section of this code contains nested loops. \n",
    "# The variables are ‘i’, ‘j’, and ‘k’, but when I looked at this code it does seem like there is no specific algorithmic operations inside of the loops.\n",
    "# The loops will be controlled by the variables ‘i’, ‘j’, and ‘k’. Also, I’ve noticed they won’t be depending on the input size ‘n’. \n",
    "# For this specific section of code, it does seem like the loops are not going to perform any computations.\n",
    "# Therefore, when the code runs each value will be determined from the variables given. \n",
    "# The time complexity for each of these loops would be O(n). \n",
    "while i<n:\n",
    "    i += 1\n",
    "    while j<(n+5):\n",
    "        j = j+1\n",
    "        while k<n-1:\n",
    "            k=k+2\n",
    "            print(k, \"Oh no!!!\")\n",
    "            \n",
    "# Finally, the time complexity for this whole code will be determined by the first two blocks of the code. ‘search(arr, target)’ and ‘son(n)’. \n",
    "# Since both of these blocks have a linear time complexity O(n), but it seems they are not nested with one another.\n",
    "# Which means the result of the time complexity will remain the same a linear running time. "
   ]
  }
 ],
 "metadata": {
  "kernelspec": {
   "display_name": "Python 3 (ipykernel)",
   "language": "python",
   "name": "python3"
  },
  "language_info": {
   "codemirror_mode": {
    "name": "ipython",
    "version": 3
   },
   "file_extension": ".py",
   "mimetype": "text/x-python",
   "name": "python",
   "nbconvert_exporter": "python",
   "pygments_lexer": "ipython3",
   "version": "3.10.12"
  }
 },
 "nbformat": 4,
 "nbformat_minor": 5
}
