{
 "cells": [
  {
   "cell_type": "code",
   "execution_count": 1,
   "id": "4d5e47e9-628a-4593-bb38-d5be99e077d5",
   "metadata": {},
   "outputs": [
    {
     "name": "stdout",
     "output_type": "stream",
     "text": [
      "Number of rows: 25\n",
      "Number of columns: 3\n"
     ]
    }
   ],
   "source": [
    "import pandas as pd\n",
    "\n",
    "df = pd.read_csv('stu_scores.csv')\n",
    "\n",
    "rows, columns = df.shape\n",
    "\n",
    "print(f\"Number of rows: {rows}\")\n",
    "print(f\"Number of columns: {columns}\")"
   ]
  },
  {
   "cell_type": "code",
   "execution_count": 2,
   "id": "19a6a843-5c50-4268-b343-0a4f28d8a091",
   "metadata": {},
   "outputs": [
    {
     "name": "stdout",
     "output_type": "stream",
     "text": [
      "         Name  Score Department  Percentage\n",
      "0       Emily     43  Marketing   61.428571\n",
      "1       James     55      Sales   78.571429\n",
      "2      Sophia     68         IT   97.142857\n",
      "3     William     34         HR   48.571429\n",
      "4      Olivia     59    Finance   84.285714\n",
      "5    Benjamin     47  Marketing   67.142857\n",
      "6         Mia     40      Sales   57.142857\n",
      "7      Samuel     60         IT   85.714286\n",
      "8         Ava     30         HR   42.857143\n",
      "9       Ethan     65    Finance   92.857143\n",
      "10      Chloe     54  Marketing   77.142857\n",
      "11    Michael     45      Sales   64.285714\n",
      "12     Harper     61         IT   87.142857\n",
      "13     Daniel     26         HR   37.142857\n",
      "14      Grace     70    Finance  100.000000\n",
      "15       Emma     37  Marketing   52.857143\n",
      "16  Alexander     64      Sales   91.428571\n",
      "17        Mia     28         IT   40.000000\n",
      "18     Oliver     52         HR   74.285714\n",
      "19    Abigail     69    Finance   98.571429\n",
      "20       Noah     32  Marketing   45.714286\n",
      "21       Lily     58      Sales   82.857143\n",
      "22       Liam     27         IT   38.571429\n",
      "23       Ella     67         HR   95.714286\n",
      "24   Isabella     35    Finance   50.000000\n"
     ]
    }
   ],
   "source": [
    "import pandas as pd\n",
    "\n",
    "df = pd.read_csv('stu_scores.csv')\n",
    "df['Percentage'] = df['Score'].apply(lambda x: (x / 70) * 100)\n",
    "\n",
    "print(df)"
   ]
  },
  {
   "cell_type": "code",
   "execution_count": 3,
   "id": "2ebaf6e1-12df-42f6-bb39-6e5c4657cf78",
   "metadata": {},
   "outputs": [
    {
     "name": "stdout",
     "output_type": "stream",
     "text": [
      "                 mean     median         var        std        min         max\n",
      "Department                                                                    \n",
      "Finance     85.142857  92.857143  424.081633  20.593242  50.000000  100.000000\n",
      "HR          59.714286  48.571429  606.530612  24.627842  37.142857   95.714286\n",
      "IT          69.714286  85.714286  791.224490  28.128713  38.571429   97.142857\n",
      "Marketing   60.857143  61.428571  149.591837  12.230774  45.714286   77.142857\n",
      "Sales       74.857143  78.571429  194.489796  13.945960  57.142857   91.428571\n"
     ]
    }
   ],
   "source": [
    "import pandas as pd\n",
    "\n",
    "df = pd.read_csv('stu_scores.csv')\n",
    "df['Percentage'] = df['Score'].apply(lambda x: (x / 70) * 100)\n",
    "department_stats = df.groupby('Department')['Percentage'].agg(['mean', 'median', 'var', 'std', 'min', 'max'])\n",
    "\n",
    "print(department_stats)"
   ]
  },
  {
   "cell_type": "code",
   "execution_count": 4,
   "id": "3e016fbf-560d-48e1-a23b-5084e36faf9c",
   "metadata": {},
   "outputs": [
    {
     "name": "stdout",
     "output_type": "stream",
     "text": [
      "Name            Grace\n",
      "Score              70\n",
      "Department    Finance\n",
      "Percentage      100.0\n",
      "Name: 14, dtype: object\n"
     ]
    }
   ],
   "source": [
    "import pandas as pd\n",
    "\n",
    "df = pd.read_csv('stu_scores.csv')\n",
    "df['Percentage'] = df['Score'].apply(lambda x: (x / 70) * 100)\n",
    "\n",
    "max_percentage_index = df['Percentage'].idxmax()\n",
    "student_with_highest_percentage = df.loc[max_percentage_index]\n",
    "\n",
    "print(student_with_highest_percentage)"
   ]
  },
  {
   "cell_type": "code",
   "execution_count": 5,
   "id": "68849749-30a9-4204-8254-6043793b6429",
   "metadata": {},
   "outputs": [
    {
     "name": "stdout",
     "output_type": "stream",
     "text": [
      "Generated List of Random Integers:\n",
      "[21, 33, 26, 2, 43, 23, 30, 35, 6, 36, 29, 15, 37, 30, 3, 32, 12, 27, 31, 11, 43, 31, 27, 7, 18, 13, 21, 13, 22, 27, 2, 37, 25, 22, 42, 10, 14, 45, 20, 42, 20, 23, 24, 24, 26, 10, 5, 38, 46, 21, 42, 11, 47, 35, 3, 22, 46, 27, 11, 36, 38, 8, 28, 2, 14, 17, 36, 44, 39, 46, 23, 8, 9, 7, 5, 42, 25, 15, 35, 14, 42, 18, 41, 16, 24, 8, 20, 24, 17, 24, 8, 32, 36, 37, 48, 49, 17, 42, 3, 43]\n",
      "Mode: 42\n",
      "Standard Deviation: 13.320235991478787\n"
     ]
    }
   ],
   "source": [
    "import random\n",
    "import statistics\n",
    "\n",
    "random_integers = [random.randint(1, 49) for _ in range(100)]\n",
    "\n",
    "mode_value = statistics.mode(random_integers)\n",
    "standard_deviation_value = statistics.stdev(random_integers)\n",
    "\n",
    "print(\"Generated List of Random Integers:\")\n",
    "print(random_integers)\n",
    "print(f\"Mode: {mode_value}\")\n",
    "print(f\"Standard Deviation: {standard_deviation_value}\")"
   ]
  },
  {
   "cell_type": "code",
   "execution_count": 6,
   "id": "4db3522b-98cc-4ff6-866d-5f8ace8a6962",
   "metadata": {},
   "outputs": [
    {
     "data": {
      "image/png": "[encoded data removed]",
      "text/plain": [
       "<Figure size 640x480 with 1 Axes>"
      ]
     },
     "metadata": {},
     "output_type": "display_data"
    }
   ],
   "source": [
    "import random\n",
    "import matplotlib.pyplot as plt\n",
    "\n",
    "random_integers = [random.randint(20, 30) for _ in range(1000)]\n",
    "plt.hist(random_integers, bins=range(20, 32), rwidth=1, alpha=0.7, color='m', edgecolor='black')\n",
    "\n",
    "plt.title(\"Frequency of Random Integers\")\n",
    "plt.xlabel(\"Integers\")\n",
    "plt.ylabel(\"Frequency\")\n",
    "\n",
    "plt.show()"
   ]
  },
  {
   "cell_type": "code",
   "execution_count": 7,
   "id": "d23d9787-f3b3-41e0-93a7-c3f995d6d316",
   "metadata": {},
   "outputs": [
    {
     "name": "stdout",
     "output_type": "stream",
     "text": [
      "Number 7 has a frequency of 5 and a probability of 0.05\n",
      "Number 3 has a frequency of 6 and a probability of 0.06\n",
      "Number 16 has a frequency of 2 and a probability of 0.02\n",
      "Number 6 has a frequency of 5 and a probability of 0.05\n",
      "Number 4 has a frequency of 5 and a probability of 0.05\n",
      "Number 12 has a frequency of 4 and a probability of 0.04\n",
      "Number 10 has a frequency of 7 and a probability of 0.07\n",
      "Number 19 has a frequency of 6 and a probability of 0.06\n",
      "Number 17 has a frequency of 7 and a probability of 0.07\n",
      "Number 11 has a frequency of 9 and a probability of 0.09\n",
      "Number 13 has a frequency of 6 and a probability of 0.06\n",
      "Number 14 has a frequency of 8 and a probability of 0.08\n",
      "Number 5 has a frequency of 3 and a probability of 0.03\n",
      "Number 1 has a frequency of 3 and a probability of 0.03\n",
      "Number 9 has a frequency of 3 and a probability of 0.03\n",
      "Number 15 has a frequency of 6 and a probability of 0.06\n",
      "Number 8 has a frequency of 3 and a probability of 0.03\n",
      "Number 18 has a frequency of 4 and a probability of 0.04\n",
      "Number 20 has a frequency of 3 and a probability of 0.03\n",
      "Number 2 has a frequency of 5 and a probability of 0.05\n"
     ]
    }
   ],
   "source": [
    "import random\n",
    "random_integers = [random.randint(1, 20) for _ in range(100)]\n",
    "\n",
    "frequency_dict = {}\n",
    "for num in random_integers:\n",
    "    if num in frequency_dict:\n",
    "        frequency_dict[num] += 1\n",
    "    else:\n",
    "        frequency_dict[num] = 1\n",
    "\n",
    "total_count = len(random_integers)\n",
    "probability_dict = {num: freq / total_count for num, freq in frequency_dict.items()}\n",
    "\n",
    "for num, freq in frequency_dict.items():\n",
    "    probability = probability_dict[num]\n",
    "    print(f\"Number {num} has a frequency of {freq} and a probability of {probability:.2f}\")"
   ]
  },
  {
   "cell_type": "code",
   "execution_count": 8,
   "id": "1018dbb4-5450-4b5a-8b72-b1ae25b641ab",
   "metadata": {},
   "outputs": [
    {
     "data": {
      "image/png": "[encoded data removed]",
      "text/plain": [
       "<Figure size 640x480 with 1 Axes>"
      ]
     },
     "metadata": {},
     "output_type": "display_data"
    }
   ],
   "source": [
    "import random\n",
    "import matplotlib.pyplot as plt\n",
    "\n",
    "def roll_until_six():\n",
    "    rolls = 0\n",
    "    while True:\n",
    "        rolls += 1\n",
    "        result = random.randint(1, 6)\n",
    "        if result == 6:\n",
    "            return rolls\n",
    "\n",
    "num_simulations = 100\n",
    "rolls_needed = []\n",
    "\n",
    "for _ in range(num_simulations):\n",
    "    rolls_needed.append(roll_until_six())\n",
    "\n",
    "plt.hist(rolls_needed, bins=range(1, max(rolls_needed) + 2), rwidth=1, alpha=0.7, color='m', edgecolor='black')\n",
    "plt.title(\"Distribution of Rolls Needed to Get a 6\")\n",
    "plt.xlabel(\"Number of Rolls\")\n",
    "plt.ylabel(\"Frequency\")\n",
    "\n",
    "plt.show()"
   ]
  },
  {
   "cell_type": "code",
   "execution_count": 9,
   "id": "a3a6929f-dedf-4699-94ad-41f02854ea45",
   "metadata": {},
   "outputs": [
    {
     "name": "stdout",
     "output_type": "stream",
     "text": [
      "2x6 Matrix:\n",
      "[[ 3  5  7  9  1  4]\n",
      " [ 6  2  8 10 13 16]]\n",
      "\n",
      "4x3 Matrix:\n",
      "[[ 3  5  7]\n",
      " [ 9  1  4]\n",
      " [ 6  2  8]\n",
      " [10 13 16]]\n"
     ]
    }
   ],
   "source": [
    "import numpy as np\n",
    "\n",
    "original_list = [3, 5, 7, 9, 1, 4, 6, 2, 8, 10, 13, 16]\n",
    "\n",
    "np_array = np.array(original_list)\n",
    "matrix_2x6 = np_array.reshape(2, 6)\n",
    "matrix_4x3 = np_array.reshape(4, 3)\n",
    "\n",
    "print(\"2x6 Matrix:\")\n",
    "print(matrix_2x6)\n",
    "\n",
    "print(\"\\n4x3 Matrix:\")\n",
    "print(matrix_4x3)"
   ]
  }
 ],
 "metadata": {
  "kernelspec": {
   "display_name": "Python 3 (ipykernel)",
   "language": "python",
   "name": "python3"
  },
  "language_info": {
   "codemirror_mode": {
    "name": "ipython",
    "version": 3
   },
   "file_extension": ".py",
   "mimetype": "text/x-python",
   "name": "python",
   "nbconvert_exporter": "python",
   "pygments_lexer": "ipython3",
   "version": "3.10.12"
  }
 },
 "nbformat": 4,
 "nbformat_minor": 5
}
